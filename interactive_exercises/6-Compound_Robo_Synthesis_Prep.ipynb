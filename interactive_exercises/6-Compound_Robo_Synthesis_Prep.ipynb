{
 "cells": [
  {
   "cell_type": "markdown",
   "metadata": {},
   "source": [
    "# Compound synthesis: exploring synthetic routes and  robotic synthesis prep \n",
    "----"
   ]
  },
  {
   "cell_type": "markdown",
   "metadata": {},
   "source": [
    "<font size=\"3\">This part of the practical will involve exploring the synthesis of the follow up compounds from fragments to druglike hits. You will use retrosynthesis prediction algorithms using the Python wrapper for the IBM RXN for Chemistry API (https://github.com/rxn4chemistry/rxn4chemistry) to return potential synthetic routes and synthesis actions that can be used for robotic synthesis. You will also see how this workflow can be linked to the OpenTrons robot. A summary of tools and algorithms used by IBM RXN for Chemistry can be found at: https://rxn.res.ibm.com/index.php/ai-research-publications/.</font>"
   ]
  },
  {
   "cell_type": "markdown",
   "metadata": {},
   "source": [
    "## Part 1: Create a free IBM RXN for Chemistry account and your first project\n",
    "----\n",
    "<font size=\"3\">Navigate to the IBM RXN for Chemistry page: https://rxn.res.ibm.com/rxn/sign-in and click 'Login'. You can login using either your facebook or Google credentials or click 'Sign up!'. \n",
    "    \n",
    "Next up, and to work with the Python wrapper for the IBM RXN Chemistry API, you need to retrieve the API key associated with your account. Click on your profile name (Top right of screen) and select 'My profile' (Fig. 1) to display your profile info and API key (Fig. 2). This is the API key you will use in this exercise.   \n",
    "    \n",
    "<img src=\"../img/IBM_API_1.png\">\n",
    "<strong><em>Fig. 1 - IBM RXN for Chemistry profile projects landing page</em></strong>\n",
    "<img src=\"../img/IBM_API_2.png\">\n",
    "<strong><em>Fig. 2 - IBM RXN for Chemistry profile settings page</em></strong>\n",
    "    \n",
    "\n",
    "### Exercise\n",
    "---\n",
    "\n",
    "<font size=\"3\">\n",
    "    \n",
    "Create your first IBM RXN for Chemistry project using your API key. \n",
    "\n",
    "In the cell below, we will create your first IBM RXN for Chemistry project using your API key.    \n",
    "\n",
    "</font>"
   ]
  },
  {
   "cell_type": "code",
   "execution_count": null,
   "metadata": {},
   "outputs": [],
   "source": [
    "from rxn4chemistry import RXN4ChemistryWrapper\n",
    "import os\n",
    "\n",
    "api_key = os.environ['IBM_API_KEY']\n",
    "\n",
    "# Edit the next two lines to add your API key and project name information\n",
    "# api_key='Insert your API key here'\n",
    "project_name = 'SABS prac'"
   ]
  },
  {
   "cell_type": "code",
   "execution_count": null,
   "metadata": {},
   "outputs": [],
   "source": [
    "# Run this code block to create your first IBM RXN for Chemistry project\n",
    "rxn4chemistry_wrapper = RXN4ChemistryWrapper(api_key=api_key)\n",
    "rxn4chemistry_wrapper.create_project(name=project_name)"
   ]
  },
  {
   "cell_type": "markdown",
   "metadata": {},
   "source": [
    "### Sanity check - have we created a project using the API?\n",
    "---\n",
    "\n",
    "<font size=\"3\">\n",
    "    \n",
    "Check if you can view the project you created by visiting: https://rxn.res.ibm.com/rxn/projects/list.    \n",
    "\n",
    "</font>"
   ]
  },
  {
   "cell_type": "markdown",
   "metadata": {},
   "source": [
    "## Part 2: Use the IBM RXN for Chemistry API to get some synthesis predictions\n",
    "---\n",
    "\n",
    "<font size=\"3\">\n",
    "Use the two functions 'getIBMRetroSyn' and 'collect_reactions' in the code block below to call the API for synthetic routes. You can find more information and about the 'rxn4chemistry_wrapper' used at: https://github.com/rxn4chemistry/rxn4chemistry/blob/master/rxn4chemistry/core.py. Check it out if you'd like to adjust the algorithms output by selecting maximum number of predicted steps, excluding reactants and setting pricing of the starting materials. \n",
    "    \n",
    "You do not need to edit and only need to run the code block below.\n",
    "</font>"
   ]
  },
  {
   "cell_type": "code",
   "execution_count": null,
   "metadata": {},
   "outputs": [],
   "source": [
    "from rdkit import Chem\n",
    "from rdkit.Chem import AllChem\n",
    "from IPython.display import display\n",
    "import time\n",
    "\n",
    "# Function to get reactions from IBM API\n",
    "def getIBMRetroSyn(smiles):\n",
    "    results = {}\n",
    "    results['status'] = None\n",
    "    final_results = None\n",
    "\n",
    "    while final_results is None:  \n",
    "        try:\n",
    "            response = rxn4chemistry_wrapper.predict_automatic_retrosynthesis(product=smiles, max_steps=2)\n",
    "            while results['status'] != 'SUCCESS': \n",
    "                time.sleep(130)\n",
    "                results = rxn4chemistry_wrapper.get_predict_automatic_retrosynthesis_results(response['prediction_id'])\n",
    "                final_results = results\n",
    "        except Exception as e:\n",
    "            print(e)\n",
    "    return final_results\n",
    "\n",
    "# Function to get all the reactions sorted into groups\n",
    "def collect_reactions(tree):\n",
    "    reactions = []\n",
    "    if 'children' in tree and len(tree['children']):\n",
    "        reactions.append(\n",
    "            AllChem.ReactionFromSmarts('{}>>{}'.format(\n",
    "                '.'.join([node['smiles'] for node in tree['children']]),\n",
    "                tree['smiles']\n",
    "            ), useSmiles=True)\n",
    "        )\n",
    "    for node in tree['children']:\n",
    "        reactions.extend(collect_reactions(node))\n",
    "    return reactions"
   ]
  },
  {
   "cell_type": "markdown",
   "metadata": {},
   "source": [
    "### Moonshot time - predict the synthesis of one of the promising 3-aminopyridine-like series compounds\n",
    "---\n",
    "\n",
    "<font size=\"3\">\n",
    "You will now use the API to investigate the synthesis of a promising 3-aminopyridine-like compound that has yielded some promising IC50 assay results. Check out more about this incredible project at: https://covid.postera.ai/covid\n",
    "    \n",
    "<blockquote cite=\"https://covid.postera.ai/covid\">\n",
    "The COVID Moonshot is an ambitious crowdsourced initiative to accelerate the development of a COVID antiviral. We work in the open with no intellectual property constraints. This way, any scientist can view submitted drug designs and experimental data to inspire new design ideas. We use our cutting-edge machine learning tools and Folding@home's crowdsourced supercomputer to determine which drug designs to send to our partners to make and test in the lab. With each drug design tested, we get closer to our goal.    \n",
    "</blockquote>\n",
    "\n",
    "Now that we've got some functions to predict retrosynthetic pathways for a given a product, it's time to select a compound and investigate how to synthesise the target. Staying with the 3-aminopyridine-like compounds you will run the API on a compound design (Fig. 3) submitted to the Moonshot that showed promising IC50 assay results. You can view the compound at: https://covid.postera.ai/covid/submissions/b3e365b9-9ba1-48cb-bc05-132b14d906ad/1. \n",
    "    \n",
    "<img src=\"../img/O%3DC(Nc1cncc2ccccc12)%5BC%40%40H%5D1CCOc2ccc(Cl)cc21.svg\">\n",
    "<strong><em>Fig. 3 - 3-aminopyridine-like Moonshot submission (MAT-POS-b3e365b9-1). SMILES: O=C(Nc1cncc2ccccc12)[C@@H]1CCOc2ccc(Cl)cc21</em></strong>\n",
    "\n",
    "### Exercise\n",
    "---\n",
    "Use the 'getIBMRetroSyn' function to call the IBM RXN for Chemistry API and retrieve the retrosynthesis predictions for MAT-POS-b3e365b9-1. \n",
    "\n",
    "</font>"
   ]
  },
  {
   "cell_type": "code",
   "execution_count": null,
   "metadata": {},
   "outputs": [],
   "source": [
    "results = getIBMRetroSyn('O=C(Nc1cncc2ccccc12)[C@@H]1CCOc2ccc(Cl)cc21')"
   ]
  },
  {
   "cell_type": "markdown",
   "metadata": {},
   "source": [
    "### Exercise\n",
    "---\n",
    "<font size=\"3\">\n",
    "Execute the codeblock below that loops over the API results returned from the 'getIBMRetroSyn' function and collects the reaction pathways using the 'collect_reactions' function.\n",
    "\n",
    "</font>"
   ]
  },
  {
   "cell_type": "code",
   "execution_count": null,
   "metadata": {},
   "outputs": [],
   "source": [
    "for index, path in enumerate(results['retrosynthetic_paths']):\n",
    "    print('Showing path {} with confidence {}:'.format(index, path['confidence']))\n",
    "    for reaction in collect_reactions(path):\n",
    "        display(Chem.Draw.ReactionToImage(reaction))"
   ]
  },
  {
   "cell_type": "markdown",
   "metadata": {},
   "source": [
    "## Part 3: Use the API's response to generate synthetic actions \n",
    "---\n",
    "\n",
    "<font size=\"3\">\n",
    "In this section, you will generate synthesis actions for the the most promising pathway. You can think of actions as synthetic actions broken down into steps such as: addition of a compound, stirring, removing solvent (concentration) etc. \n",
    "</font>\n",
    "\n",
    "### Exercise\n",
    "---\n",
    "<font size=\"3\">\n",
    "'results['retrosynthetic_paths']' contains the four synthetic pathways in decreasing confidence as shown above in a list. Run the code block to create a 'pathway_response' that will be a JSON object of all the actions needed to complete the synthesis.   \n",
    "</font>"
   ]
  },
  {
   "cell_type": "code",
   "execution_count": null,
   "metadata": {},
   "outputs": [],
   "source": [
    "path = results['retrosynthetic_paths'][0] \n",
    "pathway_response = rxn4chemistry_wrapper.create_synthesis_from_sequence(sequence_id=path['sequenceId'])\n",
    "new_synthesis_id = pathway_response['synthesis_id']"
   ]
  },
  {
   "cell_type": "markdown",
   "metadata": {},
   "source": [
    "<font size=\"3\">\n",
    "At this point, you will have a JSON response 'pathway_response' of a single pathway with the highest synthesis confidence. The IBB RXN for Chemistry API can do something very neat and predict the synthetic steps or actions (Think add, make solution, concentrate etc) needed to execute the synthesis. Note the 'name' of the synthesis actions from the output below. Can you think of others?    \n",
    "</font>"
   ]
  },
  {
   "cell_type": "code",
   "execution_count": null,
   "metadata": {},
   "outputs": [],
   "source": [
    "# get the entire list of actions for the entire synthesis, as well as a tree representation\n",
    "synthesis_tree, reactions, actions = rxn4chemistry_wrapper.get_synthesis_plan(synthesis_id=new_synthesis_id)\n",
    "\n",
    "for i, action in enumerate(actions, start=1):\n",
    "    print(i, action)"
   ]
  },
  {
   "cell_type": "markdown",
   "metadata": {},
   "source": [
    "<font size=\"3\">\n",
    "That's a lot of actions and synthesis work! For brevity, you will filter these actions to only include 'add' actions and leave out the addition of solvents. The final list of compounds to add will be stored in 'compounds_to_add' \n",
    "</font>"
   ]
  },
  {
   "cell_type": "code",
   "execution_count": null,
   "metadata": {},
   "outputs": [],
   "source": [
    "ignore_compounds = ['water', 'THF', 'methanol', 'ethyl acetate', 'SLN']\n",
    "\n",
    "compounds_to_add = []\n",
    "\n",
    "for i, action in enumerate(actions, start=1):\n",
    "        if action['name'] == 'add':\n",
    "            compound_added = action['content']['material']['value']\n",
    "            if compound_added not in ignore_compounds:\n",
    "                compounds_to_add.append(compound_added)"
   ]
  },
  {
   "cell_type": "code",
   "execution_count": null,
   "metadata": {},
   "outputs": [],
   "source": [
    "compounds_to_add"
   ]
  },
  {
   "cell_type": "markdown",
   "metadata": {},
   "source": [
    "<font size=\"3\">\n",
    "OK, so we've got some compounds to add but some are in SMILES format and the others have a chemical name. SMILES are extremely useful for machines but chemist's feel more comfortable using names and especially images. In the next section, you will use query the NCI Cactus Resolver tool (https://cactus.nci.nih.gov) to convert chemical names into SMILES which you'll then use to generate some images. The SMILES will be stored as a list in 'smiles'   \n",
    "</font>"
   ]
  },
  {
   "cell_type": "code",
   "execution_count": null,
   "metadata": {},
   "outputs": [],
   "source": [
    "from urllib.request import urlopen\n",
    "from urllib.parse import quote\n",
    "\n",
    "def CIRconvert(name):\n",
    "    try:\n",
    "        name_converted = quote(name)\n",
    "        url= 'https://cactus.nci.nih.gov/chemical/structure/' + name_converted + '/smiles'\n",
    "        ans = urlopen(url).read().decode('utf8')\n",
    "        smiles = ans.split(' ')[0]\n",
    "        return smiles\n",
    "    except:\n",
    "        return 'Did not work'"
   ]
  },
  {
   "cell_type": "code",
   "execution_count": null,
   "metadata": {},
   "outputs": [],
   "source": [
    "identifiers  = compounds_to_add\n",
    "# SMILES stored in smiles list\n",
    "smiles = []\n",
    "for ids in identifiers :\n",
    "    smiles.append(CIRconvert(ids))"
   ]
  },
  {
   "cell_type": "markdown",
   "metadata": {},
   "source": [
    "<font size=\"3\">\n",
    "Now that you've got some SMILES, you can generate some rdkit mol objects and draw some images. These are the compounds that you will use in the OpenTrons robotic synthesis procedure.    \n",
    "</font>"
   ]
  },
  {
   "cell_type": "code",
   "execution_count": null,
   "metadata": {},
   "outputs": [],
   "source": [
    "mols = [Chem.MolFromSmiles(smi) for smi in smiles]"
   ]
  },
  {
   "cell_type": "code",
   "execution_count": null,
   "metadata": {},
   "outputs": [],
   "source": [
    "legends = [smi for smi in smiles]\n",
    "Chem.Draw.MolsToGridImage(mols, molsPerRow=4, legends=legends)"
   ]
  },
  {
   "cell_type": "markdown",
   "metadata": {},
   "source": [
    " ## Part 4: Performing a robotic synthesis on the OpenTrons \n",
    "---\n",
    "\n",
    "<font size=\"3\">\n",
    "In this section, all going well, you will observe a life demo of the OpenTrons robot in action. The code being run on the robot is shown in the next code block. The OpenTrons deck's setup is shown in Fig. 4 along with the location of the reactants, labware names/position and the colors used in the demo. \n",
    "    \n",
    "<img src=\"../img/OT_deck_setup.png\">\n",
    "<strong><em>Fig. 4 - Labware, trough and reaction plate setup on OpenTrons deck</em></strong>\n",
    "</font>"
   ]
  },
  {
   "cell_type": "code",
   "execution_count": null,
   "metadata": {},
   "outputs": [],
   "source": [
    "# from opentrons import protocol_api\n",
    "\n",
    "metadata = {\n",
    "    'protocolName': 'Sudo synthesis of MAT-POS-b3e365b9-1',\n",
    "    'author': 'SABS/DLS practical',\n",
    "    'description': 'Demo of OpenTrons robotics for synthesis of MAT-POS-b3e365b9-1.',\n",
    "    'apiLevel': '2.6'\n",
    "}\n",
    "\n",
    "def run(protocol: protocol_api.ProtocolContext):\n",
    "\n",
    "    # Load the labware and assign the rack position\n",
    "    reactants_trough = protocol.load_labware('4welltrough_4_reservoir_60000ul', 4)\n",
    "    reaction_plate = protocol.load_labware('plateone_96_wellplate_2500ul', 5)\n",
    "    \n",
    "    # Load tipracks and assign a rack position\n",
    "    tiprack_1 = protocol.load_labware('opentrons_96_tiprack_300ul', 7)\n",
    "\n",
    "    # Load the pipettes and assign the pipettes position\n",
    "    p300 = protocol.load_instrument('p300_multi_gen2', 'left', tip_racks=[tiprack_1])   \n",
    "        \n",
    "    # Lets add the ester and base for the dehydration reaction\n",
    "    # Pick up tips and add the ester to the reaction plate\n",
    "    p300.transfer(200, reactants_trough['A1'].bottom(2), reaction_plate['A1'].top(-5), air_gap = 15)\n",
    "    \n",
    "    # Pick up tips and add the base to the reaction plate. Use 'mix_after' to mix the two reactants together\n",
    "    p300.transfer(200, reactants_trough['A2'].bottom(2), reaction_plate['A1'].bottom(2), air_gap = 15, mix_after=(3,100))\n",
    "\n",
    "    # Pause robot for reaction to complete\n",
    "    protocol.pause('Press resume after 1.5 h')\n",
    "\n",
    "    # With the dehydration reaction complete, add the amine for the final reaction towards \n",
    "    # the 3-aminopyridine-like MAT-POS-b3e365b9-1 \n",
    "    # Pick up tips and add the amine to the reaction mixture\n",
    "    p300.transfer(200, reactants_trough['A3'].bottom(2), reaction_plate['A1'].bottom(2), air_gap = 15, mix_after=(3,100))"
   ]
  }
 ],
 "metadata": {
  "kernelspec": {
   "display_name": "Python 3",
   "language": "python",
   "name": "python3"
  },
  "language_info": {
   "codemirror_mode": {
    "name": "ipython",
    "version": 3
   },
   "file_extension": ".py",
   "mimetype": "text/x-python",
   "name": "python",
   "nbconvert_exporter": "python",
   "pygments_lexer": "ipython3",
   "version": "3.7.9"
  }
 },
 "nbformat": 4,
 "nbformat_minor": 4
}
