{
 "cells": [
  {
   "cell_type": "markdown",
   "metadata": {},
   "source": [
    "# Compound design: elaborating existing hits\n",
    "----"
   ]
  },
  {
   "cell_type": "markdown",
   "metadata": {},
   "source": [
    "<font size=\"3\">This part of the practical will involve downloading data about molecules in the aminopyradine site from fragalysis using the python API (https://github.com/xchem/fragalysis-api) and using the API to enumerate the graph network in fragalysis for new molecules that are elaborations on the initial hits.\n",
    "\n",
    "Before we use the python API to navigate the graph network, it is useful to explore how this is incorporated in the fragalysis webpage.</font>\n",
    "\n"
   ]
  },
  {
   "cell_type": "markdown",
   "metadata": {},
   "source": [
    "## Part 1: Explore vectors in Fragalysis\n",
    "----\n",
    "<font size=\"3\">Navigate to the fragalysis page for Mpro: https://fragalysis.diamond.ac.uk/viewer/react/preview/target/Mpro and turn on the vectors for the first molecule in the 'Aminopyridine-like' site. (X0107A - you can also use the search bar in the hit navigator headaer).\n",
    "    \n",
    "Cick on the 'L' button to display the ligand. Click on the 'V' button in the molecule card to turn on the molecules vectors. You should see a series of 3D shapes overlayed on top of the ligand mmolecule in the central 3D viewer.</font>\n",
    "    \n",
    "### Explanation:\n",
    "----\n",
    "\n",
    "<font size=\"3\">\n",
    "    \n",
    "In order to assess possible modes of expansion of fragment hits we have utilised the fragment network, described by Astex Pharmaceuticals (https://doi.org/10.1021/acs.jmedchem.7b00809).It is used to identify at which points a fragment hit can be extended or modified to generate a new molecule. \n",
    "    \n",
    "The network is built from a set of molecules by recursive fragmentation based on their ring systems and the substituents of those rings. That network forms a directed acyclic graph that can be traversed to identify similar molecules based on sharing common fragments. \n",
    "    \n",
    "The relationships between different molecules are represented by edges on the graph, with the nodes describing the molecules. The transformations along the edges of the graph are described by SMARTS reaction patterns, and can represent changes to a molecule by either additions, substitutions or replacement of linkers.\n",
    "    \n",
    "In Fragalysis, the elaborations available for a molecule are represented in the context of the molecule in the central 3D viewer. \n",
    "    \n",
    "<img src=\"../img/vectors.png\">\n",
    "    \n",
    "**Replacements and linkers are represented as cylinders, indicating the start and end point for the linker or replacement at the beginning and the end of the cylinder. Directions for extension of a molecule are represented by arrows. Green shapes indicate more than 10 elaborations are available, orange indicate between 1 and 10, and red indicates a known elaboration vector, but with no available molecules in the graph network.**\n",
    "</font>\n",
    "\n",
    "----\n",
    "\n",
    "If you click on any of the green or yellow vectors, the molecules available in the graph-network will be shown on the right-hand side of the page. \n",
    "\n",
    "### Exercise\n",
    "---\n",
    "\n",
    "<font size=\"3\">\n",
    "    \n",
    "Which 3 molecules are available for the elaboration along the vector of the methyl ring group for X0107A? Copy and paste the smiles strings into the next cell. \n",
    "\n",
    "**Hint**: You can select the available elaborations by clicking on them on the right-hand side. You can then download a csv of the selections with the 'Download CSV' button in the 'Summary Info' header bar\n",
    "    \n",
    "\n",
    "</font>\n",
    "    "
   ]
  },
  {
   "cell_type": "code",
   "execution_count": 1,
   "metadata": {},
   "outputs": [],
   "source": [
    "# Insert your answer here"
   ]
  },
  {
   "cell_type": "markdown",
   "metadata": {},
   "source": [
    "## Part 2: Using the Python API to explore molecules available in the graph network\n",
    "----"
   ]
  },
  {
   "cell_type": "markdown",
   "metadata": {},
   "source": [
    "<font size=\"3\">This part of the practical will show how we can explore the graph network as above, but programatically.</font>"
   ]
  },
  {
   "cell_type": "code",
   "execution_count": null,
   "metadata": {},
   "outputs": [],
   "source": [
    "from fragalysi"
   ]
  }
 ],
 "metadata": {
  "kernelspec": {
   "display_name": "Python 3",
   "language": "python",
   "name": "python3"
  },
  "language_info": {
   "codemirror_mode": {
    "name": "ipython",
    "version": 3
   },
   "file_extension": ".py",
   "mimetype": "text/x-python",
   "name": "python",
   "nbconvert_exporter": "python",
   "pygments_lexer": "ipython3",
   "version": "3.8.3"
  }
 },
 "nbformat": 4,
 "nbformat_minor": 4
}
