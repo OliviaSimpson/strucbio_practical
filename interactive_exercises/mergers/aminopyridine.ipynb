{
 "cells": [
  {
   "cell_type": "markdown",
   "metadata": {},
   "source": [
    "Rachael needs the aminopyridine series mergers only.\n",
    "\n",
    "https://fragalysis.diamond.ac.uk/api/targets/?title=Mpro\n",
    "\n",
    "\n",
    "So in `Mpro/metadata.csv` the ones cared about are in `A1 - Aminopyridine-like`\t(site 5).\n",
    "\n",
    "I am told than none of them are covalent —nor make them covalent—, so the models already there are fine."
   ]
  },
  {
   "cell_type": "code",
   "execution_count": null,
   "metadata": {},
   "outputs": [],
   "source": [
    "! curl https://fragalysis.diamond.ac.uk/media/targets/Mpro.zip --output Mpro_Nov20.zip"
   ]
  },
  {
   "cell_type": "code",
   "execution_count": null,
   "metadata": {},
   "outputs": [],
   "source": [
    "! unzip Mpro_Nov20.zip -d Mpro_Nov20"
   ]
  },
  {
   "cell_type": "code",
   "execution_count": null,
   "metadata": {},
   "outputs": [],
   "source": [
    "from rdkit import Chem\n",
    "def loadmol(file):\n",
    "            mol = Chem.MolFromMolFile(file)\n",
    "            if mol.GetProp('_Name') == '':\n",
    "                mol.SetProp('_Name', file.split('/')[-1].replace('.sdf','').replace('.mol',''))\n",
    "            return mol"
   ]
  },
  {
   "cell_type": "code",
   "execution_count": null,
   "metadata": {},
   "outputs": [],
   "source": [
    "import pandas as pd\n",
    "from IPython.display import display\n",
    "\n",
    "metadata = pd.read_csv('Mpro_Nov20/metadata.csv')\n",
    "hits = metadata.loc[metadata.site_name == 'A1 - Aminopyridine-like']\\\n",
    "               .crystal_name\\\n",
    "               .apply(lambda name: f'Mpro_Nov20/aligned/{name}/{name}.sdf')\\\n",
    "               .apply(loadmol)\\\n",
    "               .values\n",
    "len(hits)"
   ]
  },
  {
   "cell_type": "code",
   "execution_count": null,
   "metadata": {},
   "outputs": [],
   "source": [
    "##############################################\n",
    "cores = 25\n",
    "out_path = 'aminopyridine'\n",
    "db_name = 'aminopyridine.sqlite'\n",
    "##############################################\n",
    "\n",
    "from sqlitedict import SqliteDict\n",
    "import json, os\n",
    "results = SqliteDict(db_name, encode=json.dumps, decode=json.loads, autocommit=True)\n",
    "#os.remove(results)\n",
    "assert len(results) == 0"
   ]
  },
  {
   "cell_type": "code",
   "execution_count": null,
   "metadata": {},
   "outputs": [],
   "source": [
    "from typing import Dict, List, Union\n",
    "\n",
    "def process(data: Dict[str, Union[str, dict]]):\n",
    "    # read data\n",
    "    project = data['project']\n",
    "    db_name = f'{project}.sqlite'\n",
    "    hit_blocks = data['hit_blocks']\n",
    "    name = '-'.join(hit_blocks.keys())\n",
    "    print('**********', name)\n",
    "    # imports\n",
    "    import pyrosetta, logging\n",
    "    pyrosetta.distributed.maybe_init(extra_options='-no_optH false -mute all -ignore_unrecognized_res true -load_PDB_components false')\n",
    "    from fragmenstein.mpro import MProVictor\n",
    "    from sqlitedict import SqliteDict\n",
    "    import json, logging\n",
    "    # fix hits\n",
    "    from rdkit import Chem\n",
    "    hits = []\n",
    "    for hit_name in hit_blocks:\n",
    "        hit = Chem.MolFromMolBlock(hit_blocks[hit_name])\n",
    "        hit.SetProp('_Name', hit_name)\n",
    "        hits.append(hit)\n",
    "    # settings for Fragmenstein\n",
    "    MProVictor.work_path = f'{project}'  # db_name\n",
    "    MProVictor.fragmenstein_throw_on_discard= True\n",
    "    MProVictor.fragmenstein_joining_cutoff = 5 # 10\n",
    "    MProVictor.quick_renanimation = False\n",
    "    MProVictor.error_to_catch = Exception\n",
    "    MProVictor.enable_stdout(logging.ERROR)\n",
    "    MProVictor.enable_logfile(f'{project}.log', logging.INFO)\n",
    "    MProVictor.log_errors()\n",
    "    # analyse\n",
    "    try:\n",
    "        v = MProVictor.combine(hits=hits)\n",
    "        results = SqliteDict(db_name, encode=json.dumps, decode=json.loads, autocommit=True)\n",
    "        results[v.long_name] = v.summarise()\n",
    "        if not v.error:\n",
    "            v.make_pse()\n",
    "        print('DONE', [hit.GetProp('_Name') for hit in hits])\n",
    "        return v.minimised_mol\n",
    "    except Exception as error:\n",
    "        error_msg = f'{error.__class__.__name__} {error}'\n",
    "        results = SqliteDict(db_name, encode=json.dumps, decode=json.loads, autocommit=True)\n",
    "        results[name] = {'error': error_msg}\n",
    "        MProVictor.journal.critical(f'*** {error_msg}, files: {x}')\n",
    "    except ConnectionError:\n",
    "        pass\n",
    "    return None"
   ]
  },
  {
   "cell_type": "code",
   "execution_count": null,
   "metadata": {},
   "outputs": [],
   "source": [
    "# get stuff started\n",
    "from multiprocessing import Pool\n",
    "import itertools, random, re\n",
    "pool = Pool(cores, maxtasksperchild=1)"
   ]
  },
  {
   "cell_type": "code",
   "execution_count": null,
   "metadata": {},
   "outputs": [],
   "source": [
    "# new\n",
    "results = SqliteDict(db_name, encode=json.dumps, decode=json.loads, autocommit=True)\n",
    "done = list(results.keys())\n",
    "\n",
    "to_do = [(a, b) for a, b in itertools.permutations(hits, 2)]\n",
    "random.shuffle(to_do)\n",
    "print(len(to_do))\n",
    "for pair in to_do:\n",
    "    async_result = pool.apply_async(process, ({'project': out_path,\n",
    "                                              'hit_blocks': {hit.GetProp('_Name'): Chem.MolToMolBlock(hit) for hit in pair}\n",
    "                                              },))"
   ]
  },
  {
   "cell_type": "code",
   "execution_count": null,
   "metadata": {},
   "outputs": [],
   "source": [
    "pool._cache"
   ]
  },
  {
   "cell_type": "code",
   "execution_count": null,
   "metadata": {},
   "outputs": [],
   "source": [
    "async_result.successful()"
   ]
  },
  {
   "cell_type": "code",
   "execution_count": null,
   "metadata": {},
   "outputs": [],
   "source": [
    "mol = process(hits[:2])\n",
    "import nglview\n",
    "\n",
    "nglview.show_rdkit(mol)"
   ]
  },
  {
   "cell_type": "code",
   "execution_count": null,
   "metadata": {},
   "outputs": [],
   "source": [
    "SqliteDict(db_name, encode=json.dumps, decode=json.loads, autocommit=True)"
   ]
  },
  {
   "cell_type": "code",
   "execution_count": null,
   "metadata": {},
   "outputs": [],
   "source": [
    "from sqlitedict import SqliteDict\n",
    "from rdkit.Chem import PandasTools\n",
    "import json\n",
    "import pandas as pd\n",
    "from fragmenstein import Victor\n",
    "\n",
    "Victor.work_path = out_path\n",
    "\n",
    "import numpy as np\n",
    "import os\n",
    "from rdkit import Chem\n",
    "from rdkit.Chem import AllChem\n",
    "from scipy.stats import skewnorm, gennorm\n",
    "\n",
    "\n",
    "def old_ranker(row):\n",
    "    try:\n",
    "        return float(row['∆∆G'])/5 + float(row.comRMSD) + row.N_unconstrained_atoms /5 - row.N_constrained_atoms / 10\n",
    "        #return float(row['∆∆G'])/(row.N_unconstrained_atoms + row.N_constrained_atoms * 0.5)*10 + float(row.comRMSD)\n",
    "    except:\n",
    "        return float('nan')\n",
    "    \n",
    "\n",
    "rank_weights = {'LE': 1., 'comRMSD': 2., 'atom_bonus': 2. , 'novelty_penalty': 5.}\n",
    "def ranker(row):\n",
    "    try:\n",
    "        #atom_bonus = row.N_constrained_atoms / (20 + row.N_constrained_atoms)\n",
    "        #atom_bonus = skewnorm.pdf((row.N_constrained_atoms - 20)/8, 3)\n",
    "        ζ = (row.N_constrained_atoms**2 - 25**2)/500\n",
    "        atom_bonus = gennorm.pdf(ζ, 5) / 0.5445622105291682\n",
    "        novelty_penalty = row.N_unconstrained_atoms / row.N_constrained_atoms\n",
    "        return rank_weights['LE'] * float(row.LE) + \\\n",
    "               rank_weights['comRMSD'] * float(row.comRMSD) + \\\n",
    "               - rank_weights['atom_bonus'] * atom_bonus + \\\n",
    "                rank_weights['novelty_penalty'] * novelty_penalty\n",
    "    except:\n",
    "        return float('nan')\n",
    "    \n",
    "def LE(row):\n",
    "    try:\n",
    "        return float(row['∆∆G'])/(row.N_unconstrained_atoms + row.N_constrained_atoms)\n",
    "    except:\n",
    "        return float('nan')\n",
    "\n",
    "def get_mol3D(name):\n",
    "    path = os.path.join(Victor.work_path, name, name+'.minimised.mol')\n",
    "    if os.path.exists(path):\n",
    "        try:\n",
    "            mol = Chem.MolFromMolFile(path, sanitize=True)\n",
    "            if mol is None:\n",
    "                return None\n",
    "            Chem.SanitizeMol(mol, sanitizeOps=Chem.SanitizeFlags.SANITIZE_ALL)\n",
    "            return mol\n",
    "        except Exception as error:\n",
    "            print(f'{type(error)}: {error}')\n",
    "            return None\n",
    "    else:\n",
    "        return None\n",
    "\n",
    "    \n",
    "\n",
    "def get_table(db_name, mols=True, mol_only=True):\n",
    "    results = SqliteDict(db_name, encode=json.dumps, decode=json.loads, autocommit=True)\n",
    "    result_table = pd.DataFrame(results.values())\n",
    "    print(len(result_table), sum(~result_table['∆∆G'].isna()))\n",
    "    result_table['LE'] = result_table.apply(LE,1)\n",
    "    rank = result_table.apply(ranker, axis=1).rank()\n",
    "    m = np.nanmax(rank.values)\n",
    "    result_table['%Rank'] = rank / m * 100\n",
    "    result_table['N_hits'] = result_table.regarded.apply(lambda x: len(x) if str(x) != 'nan' else float('nan'))\n",
    "    result_table = result_table.loc[~result_table.smiles.isna()].sort_values(['%Rank'], axis=0) \n",
    "    if mols:\n",
    "        result_table['mol3D'] = result_table['name'].apply(get_mol3D)\n",
    "        #result_table['mol2D'] = result_table['name'].apply(get_mol2D)\n",
    "        PandasTools.AddMoleculeColumnToFrame(result_table,'smiles','mol2D')\n",
    "        if mol_only:\n",
    "            result_table = result_table.loc[~result_table.mol3D.isna()]\n",
    "    return result_table\n"
   ]
  },
  {
   "cell_type": "code",
   "execution_count": null,
   "metadata": {},
   "outputs": [],
   "source": [
    "hits[:4]"
   ]
  },
  {
   "cell_type": "code",
   "execution_count": null,
   "metadata": {},
   "outputs": [],
   "source": [
    "atom_Ns = {hit.GetProp('_Name'): hit.GetNumAtoms() for hit in hits}"
   ]
  },
  {
   "cell_type": "code",
   "execution_count": null,
   "metadata": {},
   "outputs": [],
   "source": [
    "result_table = get_table(db_name, mols=True)\n",
    "hit_counter = lambda hits: sum([atom_Ns[hit] for hit in hits])\n",
    "merge_counter = lambda row: row.N_hit_atoms - row.N_unconstrained_atoms - row.N_constrained_atoms "
   ]
  },
  {
   "cell_type": "code",
   "execution_count": null,
   "metadata": {},
   "outputs": [],
   "source": [
    "result_table = result_table.assign(N_hit_atoms=result_table.regarded.apply(hit_counter))\n",
    "result_table = result_table.assign(N_diff_atoms=result_table.apply(merge_counter, axis='columns'))"
   ]
  },
  {
   "cell_type": "code",
   "execution_count": null,
   "metadata": {},
   "outputs": [],
   "source": [
    "from typing import List\n",
    "hits_dex = {hit.GetProp('_Name'): hit for hit in hits}\n",
    "def is_same_as_parent(query: Chem.Mol, parent_names: List[str]):\n",
    "    if query is None:\n",
    "        return False\n",
    "    query = Chem.RemoveHs(query,implicitOnly=False)\n",
    "    parents = [Chem.RemoveHs(hits_dex[name], implicitOnly=False) for name in parent_names]\n",
    "    return any([parent.HasSubstructMatch(query) for parent in parents])"
   ]
  },
  {
   "cell_type": "code",
   "execution_count": null,
   "metadata": {},
   "outputs": [],
   "source": [
    "result_table = result_table.assign(is_same_as_parent=result_table.apply(lambda row: is_same_as_parent(row.mol3D, row.regarded), axis=1))"
   ]
  },
  {
   "cell_type": "code",
   "execution_count": null,
   "metadata": {},
   "outputs": [],
   "source": [
    "result_table.is_same_as_parent.value_counts()"
   ]
  },
  {
   "cell_type": "code",
   "execution_count": null,
   "metadata": {},
   "outputs": [],
   "source": [
    "outgoing = result_table.loc[~result_table.is_same_as_parent]\n",
    "outgoing = outgoing.loc[result_table.mol3D != None]\n",
    "outgoing = outgoing.loc[outgoing['∆∆G'] < 0]\n",
    "outgoing = outgoing.assign(ref_mols=outgoing.regarded.apply(lambda names: ','.join(names)))\n",
    "len(outgoing)"
   ]
  },
  {
   "cell_type": "markdown",
   "metadata": {},
   "source": [
    "* **smiles**: molecule smiles used\n",
    "* **%Rank**: simple weighted sum of a few terms: 1x LE + 2x comRMSD - 2x atom_bonus (scaled generalised normal distribution) + 2x novelty penalty (ratio of N unconstrained over constrained) \n",
    "* **ref_mols**: all reference molecules\n",
    "* **∆∆G**: Difference in Gibbs Free energy relative to unbound molecule in kcal/mol (ref2015 scorefxn; negative=Good)\n",
    "* **∆G_bound**: Gibbs Free energy of ligand bound\n",
    "* **∆G_unbound**: Gibbs Free energy of ligand unbound\n",
    "* **LE**: Ligand efficiency (kcal/mol/N_heavy)\n",
    "* **comRMSD**: Combined RMSD from the atoms of the fragments that contributed to the position of the followup\n",
    "* **N_constrained_atoms**: Number of atoms in the submission that were constrained\n",
    "* **N_unconstrained_atoms**: Number of heavy atoms in the submission that were NOT constrained\n",
    "* **N_diff_atoms**: Difference in number of heavy atoms between the merger and the hits (negative: atoms added, positive: atoms merged)"
   ]
  },
  {
   "cell_type": "code",
   "execution_count": null,
   "metadata": {},
   "outputs": [],
   "source": [
    "from rdkit.Chem import PandasTools\n",
    "sdfile = f'{out_path}.sdf'\n",
    "PandasTools.WriteSDF(outgoing, sdfile, molColName='mol3D', idName='name',\n",
    "                     properties=['smiles', '%Rank', 'ref_mols',\n",
    "                                 '∆∆G', '∆G_bound', '∆G_unbound', 'LE',\n",
    "                                 'comRMSD', 'N_constrained_atoms', 'N_unconstrained_atoms', 'N_diff_atoms'\n",
    "                                ], allNumeric=False)"
   ]
  }
 ],
 "metadata": {
  "kernelspec": {
   "display_name": "Python 3",
   "language": "python",
   "name": "python3"
  },
  "language_info": {
   "codemirror_mode": {
    "name": "ipython",
    "version": 3
   },
   "file_extension": ".py",
   "mimetype": "text/x-python",
   "name": "python",
   "nbconvert_exporter": "python",
   "pygments_lexer": "ipython3",
   "version": "3.7.6"
  }
 },
 "nbformat": 4,
 "nbformat_minor": 4
}
